{
 "cells": [
  {
   "cell_type": "markdown",
   "metadata": {},
   "source": [
    "VARIABLES"
   ]
  },
  {
   "cell_type": "code",
   "execution_count": 20,
   "metadata": {},
   "outputs": [
    {
     "name": "stdout",
     "output_type": "stream",
     "text": [
      "inbha 24 40.0 bcom_ca 45 45\n",
      "None\n",
      "<class 'str'>\n",
      "<class 'int'>\n",
      "<class 'float'>\n",
      "<class 'str'>\n",
      "I'm inbha\n",
      "Hello World. 2020. Hi\n",
      "Hi I'm Inbha\n",
      "HI I'm Inbha\n",
      "My name is:17 My age is age rasu\n",
      "programiz.com\n",
      "programiz.com\n",
      "Good Morning! It is rainy today\n"
     ]
    }
   ],
   "source": [
    "###  Declaring a variable\n",
    "\n",
    "name = \"inbha\"\n",
    "age = 24\n",
    "mark, course = 40.0, \"bcom_ca\"\n",
    "mark1 = mark2 =45   #can assign same values to multiple variables at a time\n",
    "print(name,age,mark,course,mark1,mark2)\n",
    "value=None  #it is a special literal that is used to declare a empty(null) variable\n",
    "print(value)\n",
    "\n",
    "###  Finding the data type of the variable\n",
    "\n",
    "print(type(name))    #print function accept 5 parameters\n",
    "print(type(age))\n",
    "print(type(mark))\n",
    "print(type(course))\n",
    "print(\"I'm inbha\")\n",
    "print('Hello World',2020,'Hi',sep='. ')\n",
    "print(\"Hi \" + \"I'm \"  + \"Inbha\")\n",
    "print('HI '+'I\\'m' + ' Inbha')   # \\ can be used to except the ' ' in the print\n",
    "\n",
    "# output formatting\n",
    "na='rasu'\n",
    "age=17\n",
    "\n",
    "print('My name is:{} My age is age {}'.format(na,age))  # format can be used to represent the value to the placeholder {}\n",
    "site1 = site2  = 'programiz.com'\n",
    "\n",
    "print (site1)  # prints programiz.com\n",
    "print (site2)  # prints programiz.com\n",
    "# print with end whitespace\n",
    "print('Good Morning!' ,end= ' ')\n",
    "\n",
    "print('It is rainy today')\n"
   ]
  },
  {
   "cell_type": "code",
   "execution_count": 30,
   "metadata": {},
   "outputs": [
    {
     "name": "stdout",
     "output_type": "stream",
     "text": [
      "18.0\n",
      "19.0\n",
      "<class 'float'>\n"
     ]
    }
   ],
   "source": [
    "print(90.8//5) # float // int\n",
    "print(95/5) # int // int\n",
    "print(type(95.15/5.55)) # float // float"
   ]
  },
  {
   "cell_type": "code",
   "execution_count": 19,
   "metadata": {},
   "outputs": [
    {
     "name": "stdout",
     "output_type": "stream",
     "text": [
      "<class 'int'>\n"
     ]
    },
    {
     "data": {
      "text/plain": [
       "3"
      ]
     },
     "execution_count": 19,
     "metadata": {},
     "output_type": "execute_result"
    }
   ],
   "source": [
    "5 / 6\n",
    "'name'\n",
    "num = int((78.90 / 6))\n",
    "num\n",
    "print(type((78//6)//13))\n",
    "a=7\n",
    "b=2\n",
    "a//=b\n",
    "a"
   ]
  },
  {
   "cell_type": "code",
   "execution_count": 18,
   "metadata": {},
   "outputs": [
    {
     "data": {
      "text/plain": [
       "20.04"
      ]
     },
     "execution_count": 18,
     "metadata": {},
     "output_type": "execute_result"
    }
   ],
   "source": [
    "2004 / 100"
   ]
  },
  {
   "cell_type": "markdown",
   "metadata": {},
   "source": [
    "TYPE CONVERSION"
   ]
  },
  {
   "cell_type": "code",
   "execution_count": 5,
   "metadata": {},
   "outputs": [
    {
     "name": "stdout",
     "output_type": "stream",
     "text": [
      "2.5\n",
      "<class 'float'>\n",
      "10.0\n",
      "<class 'int'>\n",
      "30.0\n",
      "<class 'int'>\n"
     ]
    }
   ],
   "source": [
    "### Implicit conversion :\n",
    "### the type of the variable automatically changes\n",
    "\n",
    "num=10\n",
    "flo=4\n",
    "val=num/flo\n",
    "print(val)\n",
    "print(type(val))\n",
    "\n",
    "### Explicit conversion :\n",
    "### Explicit conversion is also known as type casting\n",
    "### the type of the variable manualy changed\n",
    "\n",
    "no=float(num)\n",
    "print(no)\n",
    "no=30\n",
    "print(type(no))\n",
    "print(float(no))\n",
    "print(type(no))\n"
   ]
  },
  {
   "cell_type": "markdown",
   "metadata": {},
   "source": [
    "INPUT & OUTPUT (I/O)"
   ]
  },
  {
   "cell_type": "code",
   "execution_count": 7,
   "metadata": {},
   "outputs": [
    {
     "name": "stdout",
     "output_type": "stream",
     "text": [
      "wrwq\n",
      "12\n",
      "<class 'int'>\n"
     ]
    }
   ],
   "source": [
    "###Input\n",
    "### input(promt)  \"Prompt\" is a text that appears before the input \n",
    "# Ex: Enter your name: <--- is a prompt\n",
    "### input(prompt, default)  \"Prompt\" is a text that appears before the input and \"default\" is the default value that will be displayed\n",
    "# Ex: Enter your name: <--- is a prompt and \"John\" is the default value\n",
    "name=input('Enter your name:')\n",
    "age=int(input('Enter your age:'))\n",
    "\n",
    "###Output\n",
    "print(name)\n",
    "print(age)\n",
    "print(type(age))\n"
   ]
  },
  {
   "cell_type": "code",
   "execution_count": 8,
   "metadata": {},
   "outputs": [
    {
     "name": "stdout",
     "output_type": "stream",
     "text": [
      "Not correct...Bcz\n",
      "Not correct...Bcz12\n",
      "Not correct...Bcz12\n",
      "Not correct...Bcz145\n"
     ]
    },
    {
     "data": {
      "text/plain": [
       "'name'"
      ]
     },
     "execution_count": 8,
     "metadata": {},
     "output_type": "execute_result"
    }
   ],
   "source": [
    "name_s = ''\n",
    "def name():\n",
    "    global name_s\n",
    "    name_s = input('Name: ')\n",
    "\n",
    "while not name_s.isalpha():\n",
    "    if name_s.isalpha():\n",
    "        print('It\\'s alphabet')\n",
    "    else:\n",
    "        print(\"Not correct...Bcz\"+name_s)\n",
    "    name()\n",
    "    \n",
    "name_s\n"
   ]
  },
  {
   "cell_type": "markdown",
   "metadata": {},
   "source": [
    "ARTHIMETIC OPERATORS"
   ]
  },
  {
   "cell_type": "code",
   "execution_count": 31,
   "metadata": {},
   "outputs": [
    {
     "name": "stdout",
     "output_type": "stream",
     "text": [
      "512\n",
      "64\n",
      "ADDITION:  7\n",
      "SUBTRACTIOn:  3\n",
      "MULTIPLICATION:  10\n",
      "DIVISION 2.5\n",
      "FLOOR DIVISION:  2\n",
      "MODULO:  1\n",
      "POWER:  25\n"
     ]
    }
   ],
   "source": [
    "firstNum=int(input('ENter first number:'))\n",
    "secNum=int(input('Enter second number:'))\n",
    "\n",
    "add = firstNum + secNum\n",
    "sub = firstNum - secNum\n",
    "multi = firstNum * secNum\n",
    "div = firstNum / secNum\n",
    "floordiv = firstNum // secNum\n",
    "modu = firstNum % secNum\n",
    "power = firstNum ** secNum   # It is called exponent operator It has right to left attribute\n",
    "a= 2 ** 3 ** 2\n",
    "b= (2 ** 3) ** 2\n",
    "print(a)\n",
    "print(b)\n",
    "print('ADDITION: ',add)\n",
    "print('SUBTRACTIOn: ',sub)\n",
    "print('MULTIPLICATION: ',multi)\n",
    "print('DIVISION',div)\n",
    "print('FLOOR DIVISION: ',floordiv)\n",
    "print('MODULO: ',modu)\n",
    "print('POWER: ',power)"
   ]
  },
  {
   "cell_type": "markdown",
   "metadata": {},
   "source": [
    "ASSIGNMENT OPERATORS"
   ]
  },
  {
   "cell_type": "code",
   "execution_count": 36,
   "metadata": {},
   "outputs": [
    {
     "name": "stdout",
     "output_type": "stream",
     "text": [
      "1\n",
      "2\n",
      "3\n",
      "4\n",
      "5\n",
      "6\n",
      "7\n",
      "8\n",
      "9\n"
     ]
    }
   ],
   "source": [
    "### assignment operators\n",
    "### The assignment operators are used to assign values to variables. The assignment operator is the equal sign (=).\n",
    "### assigning a value\n",
    "a = 1\n",
    "b = 10\n",
    "c = 3\n",
    "while a<10 :\n",
    "    print(a)\n",
    "    a += 1"
   ]
  },
  {
   "cell_type": "markdown",
   "metadata": {},
   "source": [
    "COMPARISON OPERATORS"
   ]
  },
  {
   "cell_type": "code",
   "execution_count": 34,
   "metadata": {},
   "outputs": [
    {
     "name": "stdout",
     "output_type": "stream",
     "text": [
      "<class 'str'>\n",
      "You are not eligible to vote\n"
     ]
    }
   ],
   "source": [
    "###comparison operators\n",
    "# >, <, >=, <=, ==, !=\n",
    "\n",
    "age = input('Enter your age:')\n",
    "print(type(age))\n",
    "age = int(age)\n",
    "if age>=18 and age<=98:\n",
    "    print('You are eligible to vote')\n",
    "elif age>=99:\n",
    "    print('Too Old') \n",
    "else:\n",
    "    print('You are not eligible to vote')"
   ]
  },
  {
   "cell_type": "markdown",
   "metadata": {},
   "source": [
    "LOGICAL OPERATORS"
   ]
  },
  {
   "cell_type": "code",
   "execution_count": null,
   "metadata": {},
   "outputs": [],
   "source": [
    "###Logical operators\n",
    "###Logical operators are used to combine two or more expressions.\n",
    "###The result of the expression is either true or false. \n",
    "###The following table lists the logical operators.\n",
    "### AND     OR      NOT"
   ]
  },
  {
   "cell_type": "markdown",
   "metadata": {},
   "source": [
    "IS IN OPERATORS"
   ]
  },
  {
   "cell_type": "code",
   "execution_count": 50,
   "metadata": {},
   "outputs": [
    {
     "name": "stdout",
     "output_type": "stream",
     "text": [
      "True\n",
      "False\n",
      "True\n",
      "True\n",
      "False\n"
     ]
    }
   ],
   "source": [
    "# Identity operators\n",
    "# is, is not\n",
    "# Membership operators\n",
    "# in, not in\n",
    "a=5\n",
    "b=5\n",
    "\n",
    "### is, is not\n",
    "print(a is b)\n",
    "print(a is not b)\n",
    "\n",
    "fruits=[\"apple\",\"mango\",\"orange\"]\n",
    "\n",
    "### in, not in\n",
    "print(\"apple\" in fruits)\n",
    "print(\"pine\" not in fruits)\n",
    "print(\"orange\" not in fruits)"
   ]
  },
  {
   "cell_type": "markdown",
   "metadata": {},
   "source": [
    "IF ELSE"
   ]
  },
  {
   "cell_type": "code",
   "execution_count": 1,
   "metadata": {},
   "outputs": [
    {
     "name": "stdout",
     "output_type": "stream",
     "text": [
      "Nalla mark than innum padikanum\n"
     ]
    }
   ],
   "source": [
    "mark=float(input('Enter your mark:'))\n",
    "\n",
    "if mark<=34:\n",
    "    print('Paramaa Padida')\n",
    "elif mark==35:\n",
    "    print('Chumma Passu')\n",
    "elif mark>=36 and mark<=70:\n",
    "    print('Average')\n",
    "else:\n",
    "    print('Nalla mark than innum padikanum')"
   ]
  },
  {
   "cell_type": "markdown",
   "metadata": {},
   "source": [
    "NESTED IF ELSE"
   ]
  },
  {
   "cell_type": "code",
   "execution_count": 39,
   "metadata": {},
   "outputs": [
    {
     "name": "stdout",
     "output_type": "stream",
     "text": [
      "Mudincha\n",
      "10\n",
      "greater\n"
     ]
    }
   ],
   "source": [
    "###if else inside if else\n",
    "\n",
    "age = int((input('Enter your age:')))\n",
    "\n",
    "if age >= 18:\n",
    "    pr='Mudincha'if age==18 else 'Eligible'   \n",
    "    print(pr)\n",
    "else:\n",
    "    print(\"Not Eligible\")\n",
    "\n",
    "a= 10\n",
    "if a==10 : print(a)    ### can write a If in single line\n",
    "result= 'greater' if a>5 else 'lesser'\n",
    "print(result)   ### this is how we write like teranary operator"
   ]
  },
  {
   "cell_type": "markdown",
   "metadata": {},
   "source": [
    "FOR LOOP"
   ]
  },
  {
   "cell_type": "code",
   "execution_count": 41,
   "metadata": {},
   "outputs": [
    {
     "name": "stdout",
     "output_type": "stream",
     "text": [
      "e\n",
      "d\n",
      "a\n",
      " \n",
      "m\n",
      "o\n",
      "n\n",
      "e\n",
      "end of string\n",
      "e\n",
      "d\n",
      "a\n",
      "10\n",
      "8\n",
      "6\n",
      "4\n",
      "2\n",
      "👌\n",
      "👌\n",
      "👌\n",
      "👌\n",
      "i = {i}, j = {j}\n",
      "i = {i}, j = {j}\n",
      "i = {i}, j = {j}\n",
      "i = {i}, j = {j}\n"
     ]
    }
   ],
   "source": [
    "###loop for string\n",
    "\n",
    "string=\"eda mone\"\n",
    "for i in string:\n",
    "    print(i)\n",
    "else:\n",
    "    print(\"end of string\") ### else can be added to for loops too\n",
    "\n",
    "string=\"eda mone\"\n",
    "for i in string:\n",
    "    print(i)\n",
    "    if i=='a':\n",
    "        break\n",
    "else:\n",
    "    print(\"end of string\") ### else will not be excecuted if the loop is terminated by a break statement\n",
    "\n",
    "###loop for a range\n",
    "for x in range(10,1,-2):   ###<- third value is for increment or decrement values just add the value to be increased or decreased\n",
    "    print(x)\n",
    "\n",
    "\n",
    "a=[\"1\",\"2\",\"3\",\"4\"]    \n",
    "for _ in a:       ### _ underscore is used as a placeholder that can be used to iterate the loop with list without its value\n",
    "    print(\"👌\")\n",
    "\n",
    "for i in range(2):\n",
    "    for j in range(2): \n",
    "        print(\"i = {i}, j = {j}\")    "
   ]
  },
  {
   "cell_type": "markdown",
   "metadata": {},
   "source": [
    "WHILE LOOP"
   ]
  },
  {
   "cell_type": "code",
   "execution_count": 44,
   "metadata": {},
   "outputs": [
    {
     "name": "stdout",
     "output_type": "stream",
     "text": [
      "1\n",
      "2\n",
      "3\n",
      "4\n",
      "5\n",
      "6\n",
      "7\n",
      "8\n",
      "9\n",
      "10\n",
      "HI\n",
      "else\n"
     ]
    }
   ],
   "source": [
    "# while loop is used to run when you no of times of iteration is unknown\n",
    "# for loop is used to run when you know the number of iteration\n",
    "\n",
    "\n",
    "a=1\n",
    "while a<=10:\n",
    "    print(a)\n",
    "    a+=1\n",
    "\n",
    "\n",
    "while True:   ### we can run the while loop with the True statement\n",
    "    print(\"HI\")    \n",
    "    break\n",
    "\n",
    "a=4\n",
    "while a>10:\n",
    "    print(\"HI\")\n",
    "else:\n",
    "    print(\"else\")   ### else can also be used in the while loop and it will not be executed if the loop is terminated by the break statement   \n",
    "\n",
    "number = 3\n",
    "\n",
    "while number <= 3:\n",
    "    print(number)\n",
    "    number = number + 1     "
   ]
  },
  {
   "cell_type": "code",
   "execution_count": 48,
   "metadata": {},
   "outputs": [
    {
     "name": "stdout",
     "output_type": "stream",
     "text": [
      "The sum is 0\n",
      "0\n",
      "1\n",
      "2\n"
     ]
    }
   ],
   "source": [
    "# Calculate the sum of numbers until user enters 0\n",
    "number = int(input('Enter a number: '))\n",
    "\n",
    "total = 0\n",
    "\n",
    "# iterate until the user enters 0\n",
    "while number != 0:\n",
    "    total += number\n",
    "    #total=total+number\n",
    "    number = int(input('Enter a number: '))\n",
    "\n",
    "print('The sum is', total)\n",
    "\n",
    "for i in range(5):\n",
    "    if i == 3:\n",
    "        break\n",
    "    print(i)"
   ]
  },
  {
   "cell_type": "markdown",
   "metadata": {},
   "source": [
    "BREAK and CONTINUE"
   ]
  },
  {
   "cell_type": "code",
   "execution_count": 1,
   "metadata": {},
   "outputs": [
    {
     "name": "stdout",
     "output_type": "stream",
     "text": [
      "1\n",
      "2\n",
      "3\n",
      "4\n",
      "6\n",
      "7\n",
      "8\n",
      "9\n",
      "10\n",
      " HI\n",
      "HI\n",
      "HI\n",
      "1\n",
      "2\n",
      "3\n",
      "4\n"
     ]
    }
   ],
   "source": [
    "# Break is usually used inside a if else(decision making statements)\n",
    "a=0\n",
    "while a<10:\n",
    "    a+=1\n",
    "    if a==5:\n",
    "        continue\n",
    "    print(a)\n",
    "\n",
    "\n",
    "a=0\n",
    "while a<10:\n",
    "    a+=1\n",
    "    if a==5:\n",
    "        break\n",
    "    print(a)"
   ]
  },
  {
   "cell_type": "markdown",
   "metadata": {},
   "source": [
    "PASS STATEMENT"
   ]
  },
  {
   "cell_type": "code",
   "execution_count": 40,
   "metadata": {},
   "outputs": [],
   "source": [
    "a=5\n",
    "\n",
    "if a>10:\n",
    "    pass\n",
    "\n",
    "### Pass statement\n",
    "### The pass statement is a null operation;\n",
    "### When it is executed, nothing happens.\n",
    "### It is useful as a placeholder when a statement is required syntact"
   ]
  },
  {
   "cell_type": "markdown",
   "metadata": {},
   "source": [
    "Range()"
   ]
  },
  {
   "cell_type": "code",
   "execution_count": 3,
   "metadata": {},
   "outputs": [
    {
     "name": "stdout",
     "output_type": "stream",
     "text": [
      "[0, 1, 2, 3]\n",
      "[2, 3, 4]\n",
      "[0, 2, 4]\n",
      "[]\n"
     ]
    }
   ],
   "source": [
    "## range()\n",
    "\n",
    "a=range(4)\n",
    "b=range(2,5)\n",
    "c=range(0,5,2)\n",
    "print(list(a))\n",
    "print(list(b))\n",
    "print(list(c)) ### we can print a range in a list form\n",
    "d= range(4,2)  ### descending is not acceptable and creates a empty list\n",
    "print(list(d)) "
   ]
  },
  {
   "cell_type": "markdown",
   "metadata": {},
   "source": [
    "RANDOM MODULE"
   ]
  },
  {
   "cell_type": "code",
   "execution_count": 34,
   "metadata": {},
   "outputs": [
    {
     "name": "stdout",
     "output_type": "stream",
     "text": [
      "6\n",
      "5\n",
      "[1, 4, 5, 2, 3]\n",
      "0.02269110829396881\n"
     ]
    }
   ],
   "source": [
    "### Random\n",
    "import random\n",
    "\n",
    "### prints random within a range given\n",
    "print(random.randrange(1,10))\n",
    "\n",
    "list1= [1,2,3,4,5]\n",
    "\n",
    "### picks random choice within given\n",
    "print(random.choice(list1))\n",
    "\n",
    "### shuffle the order of the elements\n",
    "random.shuffle(list1)\n",
    "print(list1)\n",
    "\n",
    "### prints any random number(float)\n",
    "print(random.random())"
   ]
  },
  {
   "cell_type": "markdown",
   "metadata": {},
   "source": [
    "LISTS"
   ]
  },
  {
   "cell_type": "code",
   "execution_count": 12,
   "metadata": {},
   "outputs": [
    {
     "name": "stdout",
     "output_type": "stream",
     "text": [
      "orange\n",
      "['orange', 'apple', 'pineapple', 1, 2.0, 'banana']\n",
      "['orange', 'apple', 'pineapple', 'citrus', 2.0, 'banana']\n",
      "['orange', 'apple', 'pineapple', 2.0, 'banana']\n",
      "['orange', 2.0, 'banana']\n",
      "orange\n",
      "2.0\n",
      "grapes\n",
      "banana\n",
      "['orange', 2.0, 'grapes', 'banana', 'mango', 'dragon fruit']\n",
      "['q', 'w', 'e', 'r', 't', 'y']\n",
      "3\n",
      "3\n",
      "0\n",
      "2\n",
      "1\n",
      "3\n",
      "['w', 'e']\n",
      "['r', 't', 'y']\n",
      "['q', 'w', 'e']\n",
      "['q', 'w', 'e', 'r', 't', 'y']\n",
      "[]\n",
      "['cbe', 'chen', 'mdu', 'theni']\n",
      "['theni', 'mdu', 'chen', 'cbe']\n",
      "['mdu', 'cbe', 'chen', 'theni']\n",
      "['theni', 'chen', 'cbe', 'mdu']\n",
      "['mdu', 'chen']\n",
      "mdu\n",
      "cbe\n",
      "chen\n",
      "theni\n",
      "[2, 4, 6, 8]\n",
      "[2, 4, 6, 8]\n",
      "['Odd', 'Even', 'Odd', 'Even', 'Odd', 'Even']\n",
      "[0, 10, 20, 30, 40, 50, 60, 70, 80, 90]\n",
      "['o']\n",
      "[[2, 4, 6, 8, 10], [3, 6, 9, 12, 15], [4, 8, 12, 16, 20]]\n",
      "[[2, 4, 6, 8, 10], [3, 6, 9, 12, 15], [4, 8, 12, 16, 20]]\n"
     ]
    }
   ],
   "source": [
    "### []\n",
    "#list can store values of different datatypes\n",
    "\n",
    "# Lists are:\n",
    "# Ordered - They maintain the order of elements.\n",
    "# Mutable - Items can be changed after creation.\n",
    "# Allow duplicates - They can contain duplicate values.\n",
    "\n",
    "fruits=[\"orange\",\"apple\",\"pineapple\",1,2.0]\n",
    "# negative index numbers\n",
    "print(fruits[-5])\n",
    "\n",
    "### append function is used to add values to the existing lists at the end of the list\n",
    "\n",
    "fruits.append(\"banana\")\n",
    "print(fruits)\n",
    "\n",
    "### with the index number we can change the values of the lists\n",
    "\n",
    "fruits[3]=\"citrus\"\n",
    "print(fruits)\n",
    "\n",
    "### removes the item from the list\n",
    "\n",
    "fruits.remove(\"citrus\")\n",
    "print(fruits)\n",
    "\n",
    "### to remove multiple items use del statement\n",
    "\n",
    "del fruits[1:3]\n",
    "print(fruits)\n",
    "### del fruits  will delete the entire list\n",
    "\n",
    "### inserting an item in a specified index\n",
    "\n",
    "fruits.insert(2,\"grapes\")\n",
    "\n",
    "### iterate the list print each values\n",
    "\n",
    "for i in fruits:\n",
    "    print(i)\n",
    "\n",
    "### extend function is used to extend the list with the other\n",
    "\n",
    "fruits2=[\"mango\",\"dragon fruit\"]\n",
    "fruits.extend(fruits2)\n",
    "print(fruits)\n",
    "\n",
    "### len() is used to find the number of elements in the lists\n",
    "\n",
    "len(fruits)\n",
    "\n",
    "### list() is built in function that is used to convert other iterables (strings, dictionaries, tuples, etc.) to a list\n",
    "\n",
    "a='qwerty'\n",
    "b=list(a)\n",
    "print(b)\n",
    "\n",
    "### find the index no\n",
    "\n",
    "print(fruits.index(\"banana\"))\n",
    "\n",
    "### count of the specified value in the list\n",
    "\n",
    "q=[1,2,3,4,5,6,2,4,6,1,2,3,5,7,]\n",
    "print(q.count(2))\n",
    "print(q.count(10))  # results 0 if not found\n",
    "\n",
    "w=[(1,2),(3,4),(1,2),[1,2]]\n",
    "print(w.count((1,2)))\n",
    "print(w.count([1,2]))\n",
    "\n",
    "r=[1,2,3,2,3,4,5,3,2,4].count(2)  ### can also be written as siingle line\n",
    "print(r)\n",
    "\n",
    "### slicing operator in list\n",
    "\n",
    "print(b[1:3]) ## 3 index will not be printed\n",
    "print(b[3:])  ### leaving the second value empty makes it to print the rest of the list\n",
    "print(b[:3])  ### leaving the first value empty makes it to print until the index\n",
    "print(b[:])   ### just the slicing operator makes it to print the entire list\n",
    "\n",
    "### empty list\n",
    "\n",
    "b=[]\n",
    "print(b)\n",
    "\n",
    "\n",
    "### list sort\n",
    "\n",
    "city=['mdu','cbe','theni','chen']\n",
    "city.sort()      # sorts alphabetically\n",
    "print(city)\n",
    "city.sort(reverse=True)  # sorts in reverse\n",
    "print(city)\n",
    "city.sort(key=len)       # sorts in length order\n",
    "print(city)\n",
    "\n",
    "## reverse list\n",
    "\n",
    "city.reverse()\n",
    "print(city)\n",
    "city1=city[::-2]      ### syntax -> city[start:stop:step]\n",
    "print(city1)\n",
    "\n",
    "for i in reversed(city):       ### this is used to access or iterate the elements in reverse\n",
    "    print(i)\n",
    "\n",
    "### list comprehension\n",
    "# list comprehension is a way to create a new list from an existing list in one line of code\n",
    "# syntax -> [expression for item in list if conditional]\n",
    "n=[1,2,3,4,]\n",
    "sn=[num*2 for num in n]\n",
    "print(sn)\n",
    "\n",
    "even_numbers = [num for num in range(1, 10) if num % 2 == 0 ]\n",
    "\n",
    "print(even_numbers)\n",
    "\n",
    "numbers = [1, 2, 3, 4, 5, 6]\n",
    "\n",
    "# find even and odd numbers with if\n",
    "even_odd_list = [\"Even\" if i % 2 == 0 else \"Odd\" for i in numbers]\n",
    "\n",
    "print(even_odd_list)\n",
    " ### nested if list comprehension\n",
    "num_list = [y for y in range(100) if y % 2 == 0 if y % 5 == 0]\n",
    "\n",
    "print(num_list)\n",
    "\n",
    "# list comprehension with string\n",
    "\n",
    "word = \"Python\"\n",
    "vowels = \"aeiou\"\n",
    "\n",
    "# find vowel in the string \"Python\"\n",
    "result = [char for char in word if char in vowels]\n",
    "\n",
    "print(result)\n",
    "\n",
    "multiplication = [[i * j for j in range(1, 6)] for i in range(2, 5)]\n",
    "\n",
    "print(multiplication)\n",
    "\n",
    "multiplication = []\n",
    "\n",
    "for i in range(2, 5):\n",
    "    row = []\n",
    "    for j in range(1, 6):\n",
    "        row.append(i * j)\n",
    "    multiplication.append(row)\n",
    "\n",
    "print(multiplication)"
   ]
  },
  {
   "cell_type": "markdown",
   "metadata": {},
   "source": [
    "TUPLE"
   ]
  },
  {
   "cell_type": "code",
   "execution_count": 2,
   "metadata": {},
   "outputs": [
    {
     "name": "stdout",
     "output_type": "stream",
     "text": [
      "('Python', 'C#', 'C++')\n",
      "Python\n",
      "C#\n",
      "C++\n",
      "Hi\n"
     ]
    }
   ],
   "source": [
    "### ()\n",
    "\n",
    "### Tuple cannot be edited after creation(immutable)\n",
    "### it is like list and support functions like list but cannot be edited\n",
    "\n",
    "lang=(\"Python\",\"C#\",\"C++\")\n",
    "print(lang)\n",
    "print(lang[0])\n",
    "print(lang[1])\n",
    "print(lang[2])\n",
    "del lang\n",
    "lang=('Hi') ## tuple with single item\n",
    "print(lang)"
   ]
  },
  {
   "cell_type": "markdown",
   "metadata": {},
   "source": [
    "STRING"
   ]
  },
  {
   "cell_type": "code",
   "execution_count": 32,
   "metadata": {},
   "outputs": [
    {
     "name": "stdout",
     "output_type": "stream",
     "text": [
      "helloworld\n",
      "o\toel\n",
      "hello world\n",
      "Hi\n",
      "This is a multiline string\n",
      "True\n",
      "False\n",
      "hidei\n",
      "w\n",
      "e\n",
      "l\n",
      "c\n",
      "o\n",
      "m\n",
      "e\n",
      "True\n",
      "False\n",
      "True\n",
      "WELCOME\n",
      "welcome\n",
      "WELCOME\n",
      "The strings are same.\n",
      "('', 'hi', ' buddy, are you on a high')\n",
      "('python ', 'is', ' awesome!')\n",
      "('', 'python', ' is awesome!')\n",
      "('python is ', 'awesome', '!')\n",
      "('hi buddy, are you on a ', 'hi', 'gh')\n",
      "rick roll\n",
      "-1\n",
      "10\n",
      "5\n",
      "-1\n",
      " can also start and end index numbers as a arguments\n",
      "['Split', 'this', 'string']\n",
      "['Milk', 'Chicken', 'Bread']\n",
      "['Milk, Chicken, Bread']\n",
      "['Milk', 'Chicken#Bread#Butter']\n",
      "['Milk', 'Chicken', 'Bread#Butter']\n",
      "['Milk', 'Chicken', 'Bread', 'Butter']\n",
      "['Milk#Chicken#Bread#Butter']\n",
      "Cathy is from UK\n",
      "True\n",
      "False\n",
      "True\n",
      "True\n",
      "False\n",
      "False\n",
      "True\n"
     ]
    }
   ],
   "source": [
    "# strings are immutable\n",
    "# strings are sequences of characters\n",
    "# However, we can assign the variable name to a new string.\n",
    "var='hello'\n",
    "var1=\"world\"\n",
    "print(var+var1)\n",
    "print(var[4],end='\\t'+var1[-4])\n",
    "print(var[1:3]) # slicing operator\n",
    "var = 'hello world'\n",
    "print(var)\n",
    "\n",
    "mul=\"\"\"Hi\n",
    "This is a multiline string\"\"\"\n",
    "print(mul)\n",
    "\n",
    "## we can compare two strings\n",
    "a='hi'\n",
    "b='hi'\n",
    "c='dei'\n",
    "print(a==b)\n",
    "print(a==c)\n",
    "## join strings\n",
    "d=a+c\n",
    "print(d)\n",
    "\n",
    "### we can also iterate through the strings\n",
    "wel='welcome'\n",
    "for letters in wel:\n",
    "    print(letters)\n",
    "\n",
    "### len function\n",
    "len(wel)    \n",
    "\n",
    "## membership test in strings\n",
    "print('o' in 'hello')\n",
    "print('o'in 'hi')\n",
    "print('i' not in 'hello')\n",
    "print(wel.upper())\n",
    "print(wel.lower())\n",
    "print(wel.swapcase())\n",
    "\n",
    "# first string\n",
    "firstString = \"python is awesome!\"\n",
    "\n",
    "# second string\n",
    "secondString = \"PyThOn Is AwEsOmE!\"\n",
    "\n",
    "if(firstString.upper() == secondString.upper()):\n",
    "    print(\"The strings are same.\")\n",
    "else:\n",
    "    print(\"The strings are not same.\")\n",
    "\n",
    "# partition\n",
    "# returns a tuple\n",
    "# if more than one word takes the first one\n",
    "str='hi buddy, are you on a high'\n",
    "print(str.partition('hi')) \n",
    "print(firstString.partition('is')) # 'is' is the seperator used in the function\n",
    "print(firstString.partition('python'))\n",
    "print(firstString.partition('awesome'))\n",
    "\n",
    "## rpartion - if more than one word takes the last one\n",
    "print(str.rpartition('hi')) \n",
    "\n",
    "# replace\n",
    "m='kick kill'\n",
    "n=m.replace('ki','ri',1)\n",
    "print(n.replace('ki','ro'))\n",
    "\n",
    "## find() returns the index of the value , if not found returns -1\n",
    "x=' can also start and end index numbers as a arguments         '\n",
    "print(x.find('start',0,10))\n",
    "print(x.find('start',0,25))\n",
    "print(n.find('ki'))\n",
    "print(n.find('ro'))\n",
    "\n",
    "# rstrip\n",
    "print(x.rstrip())\n",
    "\n",
    "# split\n",
    "text= 'Split this string'\n",
    "\n",
    "# splits using space\n",
    "print(text.split())\n",
    "\n",
    "grocery = 'Milk, Chicken, Bread'\n",
    "\n",
    "# splits using ,\n",
    "print(grocery.split(', '))\n",
    "\n",
    "# splits using :\n",
    "# doesn't split as grocery doesn't have :\n",
    "print(grocery.split(':'))\n",
    "\n",
    "grocery = 'Milk#Chicken#Bread#Butter'\n",
    "\n",
    "# maxsplit: 1\n",
    "print(grocery.split('#', 1))\n",
    "\n",
    "# maxsplit: 2\n",
    "print(grocery.split('#', 2))\n",
    "\n",
    "# maxsplit: 5\n",
    "print(grocery.split('#', 5))\n",
    "\n",
    "# maxsplit: 0\n",
    "print(grocery.split('#', 0))\n",
    "\n",
    "# f-strings\n",
    "name = 'Cathy'\n",
    "country = 'UK'\n",
    "\n",
    "print(f'{name} is from {country}')\n",
    "\n",
    "# startswith()\n",
    "text = \"Python programming is easy.\"\n",
    "\n",
    "# start parameter: 7\n",
    "# 'programming is easy.' string is searched\n",
    "result = text.startswith('programming is', 7)\n",
    "print(result)\n",
    "\n",
    "# start: 7, end: 18\n",
    "# 'programming' string is searched\n",
    "result = text.startswith('programming is', 7, 18)\n",
    "print(result)\n",
    "\n",
    "result = text.startswith('program', 7, 18)\n",
    "print(result)\n",
    "\n",
    "\n",
    "# with tuple arguments\n",
    "text = \"programming is easy\"\n",
    "result = text.startswith(('python', 'programming'))\n",
    "\n",
    "# prints True\n",
    "print(result)\n",
    "\n",
    "result = text.startswith(('is', 'easy', 'java'))\n",
    "\n",
    "# prints False\n",
    "print(result)\n",
    "\n",
    "# With start and end parameter\n",
    "# 'is easy' string is checked\n",
    "result = text.startswith(('programming', 'easy'), 12, 19)\n",
    "\n",
    "# prints False\n",
    "print(result)\n",
    "\n",
    "# isnumeric\n",
    "text = '12345'\n",
    "print(text.isnumeric())\n",
    "\n",
    "# string with superscript \n",
    "superscript_string = '²3455'\n",
    "print(superscript_string.isnumeric())\n",
    "\n",
    "# string with fraction value \n",
    "fraction_string = '½123'\n",
    "print(fraction_string.isnumeric())\n",
    "\n",
    "symbol_number = \"012345\"\n",
    "\n",
    "# returns True as symbol_number has all numeric characters  \n",
    "print(symbol_number.isnumeric()) \n",
    "\n",
    "text = \"Python3\"\n",
    "\n",
    "# returns False as every character of text is not numeric \n",
    "print(text.isnumeric())\n",
    "\n",
    "# index\n",
    "sentence = 'Python programming is fun.'\n",
    "\n",
    "# Substring is searched in 'gramming is fun.'\n",
    "print(sentence.index('ing', 10))\n",
    "\n",
    "# Substring is searched in 'gramming is '\n",
    "print(sentence.index('g is', 10, -4))"
   ]
  },
  {
   "cell_type": "markdown",
   "metadata": {},
   "source": [
    "SETS"
   ]
  },
  {
   "cell_type": "code",
   "execution_count": 7,
   "metadata": {},
   "outputs": [
    {
     "name": "stdout",
     "output_type": "stream",
     "text": [
      "{49, 51, 45, 47}\n",
      "{45, 47, 49, 51, 30}\n",
      "{32, 33, 45, 47, 49, 51, 30, 31}\n",
      "{32, 33, 45, 47, 51, 30, 31}\n",
      "set()\n",
      "<class 'dict'>\n",
      "<class 'set'>\n",
      "{1, 2, 3, 4, 5, 7, 9}\n",
      "{1, 2, 3, 4, 5, 7, 9}\n",
      "{1, 3, 5}\n",
      "{1, 3, 5}\n",
      "{2, 4}\n",
      "{2, 4}\n",
      "{2, 4, 7, 9}\n",
      "{2, 4, 7, 9}\n",
      "False\n",
      "True\n",
      "True\n",
      "False\n",
      "True\n",
      "False\n",
      "False\n",
      "False\n",
      "True\n",
      "True\n",
      "True\n",
      "True\n",
      "False\n",
      "True\n",
      "False\n",
      "True\n",
      "True\n",
      "True\n",
      "False\n",
      "True\n",
      "False\n",
      "False\n",
      "True\n",
      "False\n",
      "False\n",
      "True\n",
      "True\n",
      "True\n",
      "False\n",
      "(15, 'hi')\n",
      "(16, 'hello')\n",
      "(17, 'hai')\n",
      "2000 hi\n",
      "2001 hello\n",
      "2002 hai\n",
      "(0, 'hi')\n",
      "Next Element:hello\n",
      "3\n",
      "0\n",
      "4\n",
      "<class 'bytes'>\n",
      "<class 'bytes'>\n",
      "b'\\x02\\x05\\x08'\n",
      "45\n",
      "-34\n",
      "[-34, 1, 2, 3.3, 4, 23, 45]\n",
      "[45, 23, 4, 3.3, 2, 1, -34]\n",
      "[-34, 1, 2, 3.3, 4, 23, 45]\n",
      "<class 'tuple'>\n",
      "['3', '2', '1']\n",
      "['kiwi', 'apple', 'guava', 'orange', 'pineapple']\n",
      "[('Rasu', 17), ('Inbha', 19), ('Vijay', 23)]\n",
      "['kiwi', 'apple', 'guava', 'orange', 'pineapple']\n",
      "28\n",
      "128\n",
      "[2.5, 4.3, 5.0]\n"
     ]
    }
   ],
   "source": [
    "### {}\n",
    "### set has no particular orders it can print the values in any ways\n",
    "### Sets does not allows duplicates\n",
    "\n",
    "idno={45,47,49,51,47,51}\n",
    "print(idno)\n",
    "\n",
    "### add a value to the set\n",
    "idno.add(30)\n",
    "print(idno)\n",
    "\n",
    "### update the set\n",
    "idnum={31,32,33}\n",
    "idno.update(idnum)\n",
    "print(idno)\n",
    "\n",
    "### remove or discard a value from the set\n",
    "idno.discard(49)\n",
    "print(idno)\n",
    "\n",
    "### clear the set\n",
    "idno.clear()\n",
    "print(idno)\n",
    "\n",
    "### Creating a empty braces {} makes it as empty dictionary\n",
    "### To create a empty set, we need to use set()\n",
    "\n",
    "lang={}       ### Empty dictionary\n",
    "lang1=set()   ### Empty Set\n",
    "\n",
    "print(type(lang))\n",
    "print(type(lang1))\n",
    "\n",
    "### It also allows the functions like lists\n",
    "\n",
    "### SET OPERATIONS\n",
    "\n",
    "a={1,2,3,4,5}\n",
    "b={1,3,5,7,9}\n",
    "\n",
    "### Union\n",
    "print(a|b)\n",
    "print(a.union(b))\n",
    "\n",
    "### Intersection\n",
    "print(a&b)\n",
    "print(a.intersection(b))\n",
    "\n",
    "### Difference\n",
    "print(a-b)\n",
    "print(a.difference(b))\n",
    "\n",
    "### Symmetric Difference\n",
    "print(a^b)\n",
    "print(a.symmetric_difference(b))\n",
    "\n",
    "### all()\n",
    "### Empty set will return True\n",
    "### True - If all elements in an iterable are true\n",
    "### False - If any element in an iterable is false\n",
    "bool_list={True,True,False}\n",
    "bool3={False,False,False}\n",
    "bool1={True,True,True}\n",
    "bool2={}\n",
    "print(all(bool_list))\n",
    "print(all(bool1))\n",
    "print(all(bool2))\n",
    "print(all(bool3))\n",
    "\n",
    "# 0 is a false value(no value)\n",
    "# all values true\n",
    "l = [1, 3, 4, 5]\n",
    "print(all(l))\n",
    "\n",
    "# all values false\n",
    "l = [0, False]\n",
    "print(all(l))\n",
    "\n",
    "# one false value\n",
    "l = [1, 3, 4, 0]\n",
    "print(all(l))\n",
    "\n",
    "# one true value\n",
    "l = [0, False, 5]\n",
    "print(all(l))\n",
    "\n",
    "# empty iterable\n",
    "l = []\n",
    "print(all(l))\n",
    "\n",
    "s = \"This is good\"\n",
    "print(all(s))\n",
    "\n",
    "# 0 is False\n",
    "# '0' is True\n",
    "s = '000'\n",
    "print(all(s))\n",
    "\n",
    "s = ''\n",
    "print(all(s))\n",
    "\n",
    "# with dictionaries\n",
    "\n",
    "s = {0: 'False', 1: 'False'}\n",
    "print(all(s))\n",
    "\n",
    "s = {1: 'True', 2: 'True'}\n",
    "print(all(s))\n",
    "\n",
    "s = {1: 'True', False: 0}\n",
    "print(all(s))\n",
    "\n",
    "s = {}\n",
    "print(all(s))\n",
    "\n",
    "# 0 is False\n",
    "# '0' is True\n",
    "s = {'0': 'True'}\n",
    "print(all(s))\n",
    "\n",
    "# any\n",
    "# any() returns True if any item in the iterable is true. If the iterable is empty,returns False. \n",
    "# It is the logical disjunction of the values.\n",
    "# True since 1,3 and 4 (at least one) is true\n",
    "l = [1, 3, 4, 0]\n",
    "print(any(l))\n",
    "\n",
    "# False since both are False\n",
    "l = [0, False]\n",
    "print(any(l))\n",
    "\n",
    "# True since 5 is true\n",
    "l = [0, False, 5]\n",
    "print(any(l))\n",
    "\n",
    "# False since iterable is empty\n",
    "l = []\n",
    "print(any(l))\n",
    "\n",
    "# 0 is False\n",
    "d = {0: 'False'}\n",
    "print(any(d))\n",
    "\n",
    "# 1 is True\n",
    "d = {0: 'False', 1: 'True'}\n",
    "print(any(d))\n",
    "\n",
    "# 0 and False are false\n",
    "d = {0: 'False', False: 0}\n",
    "print(any(d))\n",
    "\n",
    "# iterable is empty\n",
    "d = {}\n",
    "print(any(d))\n",
    "\n",
    "# 0 is False\n",
    "# '0' is True\n",
    "d = {'0': 'False'}\n",
    "print(any(d))\n",
    "\n",
    "# At east one (in fact all) elements are True\n",
    "s = \"This is good\"\n",
    "print(any(s))\n",
    "\n",
    "# 0 is False\n",
    "# '0' is True since its a string character\n",
    "s = '000'\n",
    "print(any(s))\n",
    "\n",
    "# False since empty iterable\n",
    "s = ''\n",
    "print(any(s))\n",
    "\n",
    "# enumerate\n",
    "# enumerate(iterable, start=0) -> enumerate object\n",
    "# enumerate() returns an enumerate object. It contains the index and value of all the items of an iterable as a pair.\n",
    "\n",
    "h=('hi','hello','hai')\n",
    "for i in enumerate(h,15):\n",
    "    print(i)\n",
    "\n",
    "for count,value in enumerate(h,2000):\n",
    "    print(count,value)\n",
    "\n",
    "n=enumerate(h)\n",
    "m=next(n)\n",
    "o=next(n)\n",
    "print(m)\n",
    "print(f'Next Element:{o[1]}')\n",
    "\n",
    "# len()\n",
    "# len() returns the length of an object.\n",
    "\n",
    "a=['ih','hi','hai']\n",
    "print(len(a))\n",
    "b=[]\n",
    "print(len(b))\n",
    "d={'1':'Hi','2':'Dei','3':'Hai','4':'jai'}\n",
    "print(len(d))\n",
    "\n",
    "# bytes()\n",
    "# bytes() returns a bytes object which is an immutable sequence of integers in the range 0 <= x < 256.\n",
    "#It is used to represent binary data.\n",
    "bstr=bytes(b'python')\n",
    "print(type(bstr))\n",
    "blist=[2,5,8]\n",
    "blis=bytes(blist)\n",
    "print(type(blis))\n",
    "print(blis)\n",
    "\n",
    "\n",
    "# max()\n",
    "# max() returns the largest item in an iterable. If the iterable is empty, returns None.\n",
    "# min()\n",
    "# min() returns the smallest item in an iterable. If the iterable is empty, returns None.\n",
    "\n",
    "iterable=[1,2,4,23,45,-34,3.3]\n",
    "print(max(iterable))\n",
    "print(min(iterable))\n",
    "\n",
    "# sorted()\n",
    "ite=tuple(iterable)\n",
    "print(sorted(iterable))\n",
    "print(sorted(iterable,reverse=True))\n",
    "print(sorted(ite))\n",
    "print(type(ite))\n",
    "dic={'1':'hi','3':'hai','2':'dai'}\n",
    "print(sorted(dic,reverse=True))\n",
    "fru=['apple','kiwi','orange','guava','pineapple']\n",
    "print(sorted(fru,key=len))\n",
    "\n",
    "personal=[('Inbha',19),(\"Rasu\",17),(\"Vijay\",23)]\n",
    "def age(individual):\n",
    "    return individual[1]\n",
    "sorted_personal=sorted(personal,key=age)\n",
    "print(sorted_personal)\n",
    "\n",
    "#  sort()\n",
    "# sort() sorts the elements of an iterable in a specific order.\n",
    "# change occur in the list itself doesn't return values\n",
    "\n",
    "fru.sort(key=len)\n",
    "print(fru)\n",
    "\n",
    "# sum()\n",
    "# sum() returns the sum of the items of an iterable.\n",
    "# If the iterable is empty, returns 0.\n",
    "a=[1,2,3,4,7,8,3]\n",
    "print(sum(a))\n",
    "print(sum(a,100)) # this adds the values from the start parameter(100)\n",
    "import math\n",
    "i=[2.5,4.3,5.0]\n",
    "math.fsum(i)\n",
    "\n",
    "# copy()\n",
    "# copy() returns a shallow copy of the list.\n",
    "# The shallow copy of a list is a new list containing the same elements as the original list.\n",
    "# The elements of the shallow copy are references to the elements of the original list.\n",
    "# If the elements of the original list are mutable, \n",
    "# the shallow copy will reflect changes to the elements of the original list.\n",
    "# If the elements of the original list are immutable,\n",
    "# the shallow copy will not reflect changes to the elements of the original list.\n",
    "\n",
    "n=i.copy()\n",
    "print(n)"
   ]
  },
  {
   "cell_type": "markdown",
   "metadata": {},
   "source": [
    "DICTIONARY"
   ]
  },
  {
   "cell_type": "code",
   "execution_count": 142,
   "metadata": {},
   "outputs": [
    {
     "name": "stdout",
     "output_type": "stream",
     "text": [
      "{'1': 'Inbha', '2': 'Vijay', '3': 'Balu'}\n",
      "Inbha\n",
      "{'1': 'Inbha', '2': 'Vijay', '3': 'Balu', '4': 'Ajith'}\n",
      "Ajith\n",
      "{'2': 'Vijay', '3': 'Balu', '4': 'Ajith'}\n",
      "{'2': 'Vijay', '3': 'Balu', '4': 'Inbha'}\n",
      "2\n",
      "3\n",
      "4\n",
      "Vijay\n",
      "Balu\n",
      "Inbha\n",
      "3\n",
      "{}\n"
     ]
    }
   ],
   "source": [
    "idOfStudents={\n",
    "    \"1\":\"Inbha\",\n",
    "    \"2\":\"Vijay\",\n",
    "    \"3\":\"Balu\"\n",
    "}\n",
    "print(idOfStudents)\n",
    "print(idOfStudents[\"1\"])\n",
    "\n",
    "### add items to the dictionary\n",
    "\n",
    "idOfStudents[\"4\"]=\"Ajith\"\n",
    "print(idOfStudents)\n",
    "print(idOfStudents[\"4\"])\n",
    "\n",
    "### remove value from dictionary\n",
    "\n",
    "del idOfStudents[\"1\"]\n",
    "print(idOfStudents)\n",
    "\n",
    "### change the value\n",
    "\n",
    "idOfStudents[\"4\"]=\"Inbha\"\n",
    "print(idOfStudents)\n",
    "\n",
    "### iterate the dictionary\n",
    "\n",
    "for i in idOfStudents:    ### shows only the keys\n",
    "    print(i)\n",
    "\n",
    "\n",
    "for j in idOfStudents:    ### shows the values\n",
    "    name=idOfStudents[j]\n",
    "    print(name)   \n",
    "\n",
    "### to find length\n",
    "print(len(idOfStudents))\n",
    "\n",
    "### to clear every elements\n",
    "\n",
    "idOfStudents.clear()\n",
    "print(idOfStudents)    \n",
    "\n",
    "### we can use \"in\" and \"not in\" in the dictionary"
   ]
  },
  {
   "cell_type": "markdown",
   "metadata": {},
   "source": [
    "FUNCTION"
   ]
  },
  {
   "cell_type": "code",
   "execution_count": 5,
   "metadata": {},
   "outputs": [
    {
     "name": "stdout",
     "output_type": "stream",
     "text": [
      "1\n",
      "3\n"
     ]
    }
   ],
   "source": [
    "for i in range(1,4):\n",
    "    if i == 2:\n",
    "        continue\n",
    "    print(i)"
   ]
  },
  {
   "cell_type": "code",
   "execution_count": null,
   "metadata": {},
   "outputs": [
    {
     "name": "stdout",
     "output_type": "stream",
     "text": [
      "Hello, World!\n",
      "Hi Vijay\n",
      "6\n",
      "25\n"
     ]
    }
   ],
   "source": [
    "### Creating a function\n",
    "\n",
    "def greet():\n",
    "    print(\"Hello, World!\")\n",
    "\n",
    "greet()    \n",
    "\n",
    "def hi(name):\n",
    "    print(\"Hi\",name)\n",
    "    \n",
    "hi(\"Vijay\")\n",
    "\n",
    "\n",
    "def sum(a,b):\n",
    "    c=a+b\n",
    "    return c\n",
    "ans=sum(2,4)\n",
    "print(ans)\n",
    "\n",
    "\n",
    "num=int(input('Enter the value to be squared:'))\n",
    "def square(a):\n",
    "    sq=num*num\n",
    "    return sq\n",
    "squ=square(num)\n",
    "print(squ)\n",
    "\n"
   ]
  },
  {
   "cell_type": "markdown",
   "metadata": {},
   "source": [
    "MODULES"
   ]
  },
  {
   "cell_type": "code",
   "execution_count": 2,
   "metadata": {},
   "outputs": [
    {
     "name": "stdout",
     "output_type": "stream",
     "text": [
      "3.141592653589793\n"
     ]
    }
   ],
   "source": [
    "import math\n",
    "a=math.pi\n",
    "print(a)"
   ]
  },
  {
   "cell_type": "code",
   "execution_count": 3,
   "metadata": {},
   "outputs": [
    {
     "name": "stdout",
     "output_type": "stream",
     "text": [
      "3.141592653589793\n"
     ]
    }
   ],
   "source": [
    "from math import pi\n",
    "print(pi)"
   ]
  },
  {
   "cell_type": "code",
   "execution_count": 4,
   "metadata": {},
   "outputs": [
    {
     "name": "stdout",
     "output_type": "stream",
     "text": [
      "3.141592653589793\n",
      "['ArithmeticError', 'AssertionError', 'AttributeError', 'BaseException', 'BaseExceptionGroup', 'BlockingIOError', 'BrokenPipeError', 'BufferError', 'BytesWarning', 'ChildProcessError', 'ConnectionAbortedError', 'ConnectionError', 'ConnectionRefusedError', 'ConnectionResetError', 'DeprecationWarning', 'EOFError', 'Ellipsis', 'EncodingWarning', 'EnvironmentError', 'Exception', 'ExceptionGroup', 'False', 'FileExistsError', 'FileNotFoundError', 'FloatingPointError', 'FutureWarning', 'GeneratorExit', 'IOError', 'ImportError', 'ImportWarning', 'IndentationError', 'IndexError', 'InterruptedError', 'IsADirectoryError', 'KeyError', 'KeyboardInterrupt', 'LookupError', 'MemoryError', 'ModuleNotFoundError', 'NameError', 'None', 'NotADirectoryError', 'NotImplemented', 'NotImplementedError', 'OSError', 'OverflowError', 'PendingDeprecationWarning', 'PermissionError', 'ProcessLookupError', 'RecursionError', 'ReferenceError', 'ResourceWarning', 'RuntimeError', 'RuntimeWarning', 'StopAsyncIteration', 'StopIteration', 'SyntaxError', 'SyntaxWarning', 'SystemError', 'SystemExit', 'TabError', 'TimeoutError', 'True', 'TypeError', 'UnboundLocalError', 'UnicodeDecodeError', 'UnicodeEncodeError', 'UnicodeError', 'UnicodeTranslateError', 'UnicodeWarning', 'UserWarning', 'ValueError', 'Warning', 'WindowsError', 'ZeroDivisionError', '__IPYTHON__', '__build_class__', '__debug__', '__doc__', '__import__', '__loader__', '__name__', '__package__', '__spec__', 'abs', 'aiter', 'all', 'anext', 'any', 'ascii', 'bin', 'bool', 'breakpoint', 'bytearray', 'bytes', 'callable', 'chr', 'classmethod', 'compile', 'complex', 'copyright', 'credits', 'delattr', 'dict', 'dir', 'display', 'divmod', 'enumerate', 'eval', 'exec', 'execfile', 'filter', 'float', 'format', 'frozenset', 'get_ipython', 'getattr', 'globals', 'hasattr', 'hash', 'help', 'hex', 'id', 'input', 'int', 'isinstance', 'issubclass', 'iter', 'len', 'license', 'list', 'locals', 'map', 'max', 'memoryview', 'min', 'next', 'object', 'oct', 'open', 'ord', 'pow', 'print', 'property', 'range', 'repr', 'reversed', 'round', 'runfile', 'set', 'setattr', 'slice', 'sorted', 'staticmethod', 'str', 'sum', 'super', 'tuple', 'type', 'vars', 'zip']\n"
     ]
    }
   ],
   "source": [
    "from math import *             ### imports every names from math module\n",
    "\"\"\"Importing everything with the asterisk (*) symbol is not a good programming practice.\n",
    "This can lead to duplicate definitions for an identifier. It also hampers the readability of our code.\"\"\"\n",
    "\n",
    "import math as m\n",
    "print(m.pi)\n",
    "a=1\n",
    "b=10\n",
    "print(dir(locals()['__builtins__']))"
   ]
  },
  {
   "cell_type": "markdown",
   "metadata": {},
   "source": [
    "MAIN FUNCTION"
   ]
  },
  {
   "cell_type": "code",
   "execution_count": 4,
   "metadata": {},
   "outputs": [
    {
     "name": "stdout",
     "output_type": "stream",
     "text": [
      "__main__\n",
      "Hello World\n"
     ]
    }
   ],
   "source": [
    "print(__name__)\n",
    "def main():\n",
    "    print(\"Hello World\")\n",
    "\n",
    "if __name__==\"__main__\":\n",
    "    main()"
   ]
  }
 ],
 "metadata": {
  "kernelspec": {
   "display_name": "Python 3",
   "language": "python",
   "name": "python3"
  },
  "language_info": {
   "codemirror_mode": {
    "name": "ipython",
    "version": 3
   },
   "file_extension": ".py",
   "mimetype": "text/x-python",
   "name": "python",
   "nbconvert_exporter": "python",
   "pygments_lexer": "ipython3",
   "version": "3.11.4"
  }
 },
 "nbformat": 4,
 "nbformat_minor": 2
}
